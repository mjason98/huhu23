{
 "cells": [
  {
   "cell_type": "code",
   "execution_count": 8,
   "metadata": {},
   "outputs": [],
   "source": [
    "import pandas as pd\n",
    "import numpy as np\n",
    "import os"
   ]
  },
  {
   "cell_type": "code",
   "execution_count": null,
   "metadata": {},
   "outputs": [],
   "source": [
    "!ls data -l"
   ]
  },
  {
   "cell_type": "code",
   "execution_count": 14,
   "metadata": {},
   "outputs": [],
   "source": [
    "append_list = [\n",
    "    'pred_humor_rfe_1.csv',\n",
    "    'pred_humor_rfe_2.csv',\n",
    "    'pred_humor_rfe_3.csv',\n",
    "    'pred_humor_ted_1.csv',\n",
    "    'pred_humor_ted_2.csv',\n",
    "    'pred_humor_ted_3.csv',\n",
    "]\n",
    "\n",
    "app = []\n",
    "\n",
    "for al in append_list:\n",
    "    d = pd.read_csv(os.path.join('data', al))\n",
    "    app.append( d['humor'].to_numpy().reshape(1,-1) )\n",
    "\n",
    "# print (app[0])\n",
    "app = np.concatenate(app, axis=0)"
   ]
  },
  {
   "cell_type": "code",
   "execution_count": 22,
   "metadata": {},
   "outputs": [],
   "source": [
    "label = app.sum(axis=0) >= 3\n",
    "label = label.astype(int)"
   ]
  },
  {
   "cell_type": "code",
   "execution_count": 31,
   "metadata": {},
   "outputs": [],
   "source": [
    "ide = pd.read_csv( os.path.join('data', append_list[0]))['index']\n",
    "label = pd.Series(label, name='humor')"
   ]
  },
  {
   "cell_type": "code",
   "execution_count": 35,
   "metadata": {},
   "outputs": [],
   "source": [
    "best_label = pd.read_csv('data/pred_humor_ted_best.csv')['humor']\n",
    "reg_column = pd.read_csv('data/pred_mean_prejudice_rfer.csv')['mean_prejudice']"
   ]
  },
  {
   "cell_type": "code",
   "execution_count": 36,
   "metadata": {},
   "outputs": [],
   "source": [
    "data1 = pd.concat([ide, label, reg_column], axis=1)\n",
    "data2 = pd.concat([ide, best_label, reg_column], axis=1)"
   ]
  },
  {
   "cell_type": "code",
   "execution_count": 37,
   "metadata": {},
   "outputs": [],
   "source": [
    "data1.to_csv(os.path.join('data', 'pred_humor_ensb6.csv'), index=None)\n",
    "data2.to_csv(os.path.join('data', 'pred_humor_best.csv'), index=None)"
   ]
  },
  {
   "cell_type": "code",
   "execution_count": null,
   "metadata": {},
   "outputs": [],
   "source": []
  }
 ],
 "metadata": {
  "kernelspec": {
   "display_name": ".venv",
   "language": "python",
   "name": "python3"
  },
  "language_info": {
   "codemirror_mode": {
    "name": "ipython",
    "version": 3
   },
   "file_extension": ".py",
   "mimetype": "text/x-python",
   "name": "python",
   "nbconvert_exporter": "python",
   "pygments_lexer": "ipython3",
   "version": "3.11.3"
  },
  "orig_nbformat": 4
 },
 "nbformat": 4,
 "nbformat_minor": 2
}
