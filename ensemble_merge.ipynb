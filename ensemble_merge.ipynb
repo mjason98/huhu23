{
 "cells": [
  {
   "cell_type": "code",
   "execution_count": 1,
   "metadata": {},
   "outputs": [],
   "source": [
    "import pandas as pd\n",
    "import numpy as np\n",
    "import os"
   ]
  },
  {
   "cell_type": "code",
   "execution_count": 2,
   "metadata": {},
   "outputs": [
    {
     "name": "stdout",
     "output_type": "stream",
     "text": [
      "total 2080\n",
      "-rw-r--r-- 1 jason users  17666 May 18 11:08 pred_humor_best.csv\n",
      "-rw-r--r-- 1 jason users  17666 May 18 11:08 pred_humor_ensb6.csv\n",
      "-rw-r--r-- 1 jason users 120634 May 18 10:20 pred_humor_rfe_1.csv\n",
      "-rw-r--r-- 1 jason users 120634 May 18 10:24 pred_humor_rfe_2.csv\n",
      "-rw-r--r-- 1 jason users 120634 May 18 10:25 pred_humor_rfe_3.csv\n",
      "-rw-r--r-- 1 jason users 124834 May 18 10:35 pred_humor_rfer.csv\n",
      "-rw-r--r-- 1 jason users 120634 May 17 21:23 pred_humor_ted_1.csv\n",
      "-rw-r--r-- 1 jason users 120634 May 17 21:32 pred_humor_ted_2.csv\n",
      "-rw-r--r-- 1 jason users 120634 May 17 21:11 pred_humor_ted_3.csv\n",
      "-rw-r--r-- 1 jason users 120634 May 17 21:01 pred_humor_ted_best.csv\n",
      "-rw-r--r-- 1 jason users 131778 May 18 11:03 pred_mean_prejudice_rfer.csv\n",
      "-rw-r--r-- 1 jason users 119072 May 17 17:31 test.csv\n",
      "-rw-r--r-- 1 jason users  20860 May 17 19:06 test_tmp.csv\n",
      "-rw-r--r-- 1 jason users 417796 May 17 17:31 train.csv\n",
      "-rw-r--r-- 1 jason users 397038 May 17 19:06 train_tmp.csv\n"
     ]
    }
   ],
   "source": [
    "!ls data -l"
   ]
  },
  {
   "cell_type": "code",
   "execution_count": 3,
   "metadata": {},
   "outputs": [],
   "source": [
    "append_list = [\n",
    "    'pred_humor_rfe_1.csv',\n",
    "    'pred_humor_rfe_2.csv',\n",
    "    'pred_humor_rfe_3.csv',\n",
    "    'pred_humor_ted_1.csv',\n",
    "    'pred_humor_ted_2.csv',\n",
    "    'pred_humor_ted_3.csv',\n",
    "]\n",
    "\n",
    "app = []\n",
    "\n",
    "for al in append_list:\n",
    "    d = pd.read_csv(os.path.join('data', al))\n",
    "    app.append( d['humor'].to_numpy().reshape(1,-1) )\n",
    "\n",
    "# print (app[0])\n",
    "app = np.concatenate(app, axis=0)"
   ]
  },
  {
   "cell_type": "code",
   "execution_count": 4,
   "metadata": {},
   "outputs": [],
   "source": [
    "label = app.sum(axis=0) >= 3\n",
    "label = label.astype(int)"
   ]
  },
  {
   "cell_type": "code",
   "execution_count": 5,
   "metadata": {},
   "outputs": [],
   "source": [
    "ide = pd.read_csv( os.path.join('data', append_list[0]))['index']\n",
    "label = pd.Series(label, name='humor')"
   ]
  },
  {
   "cell_type": "code",
   "execution_count": 6,
   "metadata": {},
   "outputs": [],
   "source": [
    "best_label = pd.read_csv('data/pred_humor_ted_best.csv')['humor']\n",
    "reg_column = pd.read_csv('data/pred_mean_prejudice_rfer.csv')['mean_prejudice']"
   ]
  },
  {
   "cell_type": "code",
   "execution_count": 7,
   "metadata": {},
   "outputs": [],
   "source": [
    "data1 = pd.concat([ide, label, reg_column], axis=1)\n",
    "data2 = pd.concat([ide, best_label, reg_column], axis=1)"
   ]
  },
  {
   "cell_type": "code",
   "execution_count": 8,
   "metadata": {},
   "outputs": [],
   "source": [
    "data1.to_csv(os.path.join('data', 'pred_humor_ensb6.csv'), index=None, header=['tweet_id', 'humour', 'prejudice_degree'])\n",
    "data2.to_csv(os.path.join('data', 'pred_humor_solo.csv'), index=None, header=['tweet_id', 'humour', 'prejudice_degree'])"
   ]
  },
  {
   "cell_type": "code",
   "execution_count": null,
   "metadata": {},
   "outputs": [],
   "source": []
  }
 ],
 "metadata": {
  "kernelspec": {
   "display_name": ".venv",
   "language": "python",
   "name": "python3"
  },
  "language_info": {
   "codemirror_mode": {
    "name": "ipython",
    "version": 3
   },
   "file_extension": ".py",
   "mimetype": "text/x-python",
   "name": "python",
   "nbconvert_exporter": "python",
   "pygments_lexer": "ipython3",
   "version": "3.11.3"
  },
  "orig_nbformat": 4
 },
 "nbformat": 4,
 "nbformat_minor": 2
}
