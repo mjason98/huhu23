{
 "cells": [
  {
   "cell_type": "code",
   "execution_count": 1,
   "metadata": {},
   "outputs": [],
   "source": [
    "import pandas as pd\n",
    "\n",
    "data = pd.read_csv(\"data/train.csv\")"
   ]
  },
  {
   "cell_type": "code",
   "execution_count": 9,
   "metadata": {},
   "outputs": [
    {
     "name": "stdout",
     "output_type": "stream",
     "text": [
      "(2671, 8)\n"
     ]
    },
    {
     "data": {
      "text/plain": [
       "Index(['index', 'tweet', 'humor', 'prejudice_woman', 'prejudice_lgbtiq',\n",
       "       'prejudice_inmigrant_race', 'gordofobia', 'mean_prejudice'],\n",
       "      dtype='object')"
      ]
     },
     "execution_count": 9,
     "metadata": {},
     "output_type": "execute_result"
    }
   ],
   "source": [
    "# Columns \n",
    "print (data.shape)\n",
    "data.columns"
   ]
  },
  {
   "cell_type": "code",
   "execution_count": 6,
   "metadata": {},
   "outputs": [
    {
     "data": {
      "text/html": [
       "<div>\n",
       "<style scoped>\n",
       "    .dataframe tbody tr th:only-of-type {\n",
       "        vertical-align: middle;\n",
       "    }\n",
       "\n",
       "    .dataframe tbody tr th {\n",
       "        vertical-align: top;\n",
       "    }\n",
       "\n",
       "    .dataframe thead th {\n",
       "        text-align: right;\n",
       "    }\n",
       "</style>\n",
       "<table border=\"1\" class=\"dataframe\">\n",
       "  <thead>\n",
       "    <tr style=\"text-align: right;\">\n",
       "      <th></th>\n",
       "      <th>index</th>\n",
       "      <th>humor</th>\n",
       "      <th>prejudice_woman</th>\n",
       "      <th>prejudice_lgbtiq</th>\n",
       "      <th>prejudice_inmigrant_race</th>\n",
       "      <th>gordofobia</th>\n",
       "      <th>mean_prejudice</th>\n",
       "    </tr>\n",
       "  </thead>\n",
       "  <tbody>\n",
       "    <tr>\n",
       "      <th>count</th>\n",
       "      <td>2671.000000</td>\n",
       "      <td>2671.000000</td>\n",
       "      <td>2671.000000</td>\n",
       "      <td>2671.000000</td>\n",
       "      <td>2671.000000</td>\n",
       "      <td>2671.000000</td>\n",
       "      <td>2671.000000</td>\n",
       "    </tr>\n",
       "    <tr>\n",
       "      <th>mean</th>\n",
       "      <td>42321.260202</td>\n",
       "      <td>0.325346</td>\n",
       "      <td>0.483714</td>\n",
       "      <td>0.227256</td>\n",
       "      <td>0.248596</td>\n",
       "      <td>0.080120</td>\n",
       "      <td>3.053126</td>\n",
       "    </tr>\n",
       "    <tr>\n",
       "      <th>std</th>\n",
       "      <td>27962.187334</td>\n",
       "      <td>0.468592</td>\n",
       "      <td>0.499828</td>\n",
       "      <td>0.419138</td>\n",
       "      <td>0.432280</td>\n",
       "      <td>0.271529</td>\n",
       "      <td>0.809173</td>\n",
       "    </tr>\n",
       "    <tr>\n",
       "      <th>min</th>\n",
       "      <td>9.000000</td>\n",
       "      <td>0.000000</td>\n",
       "      <td>0.000000</td>\n",
       "      <td>0.000000</td>\n",
       "      <td>0.000000</td>\n",
       "      <td>0.000000</td>\n",
       "      <td>0.400000</td>\n",
       "    </tr>\n",
       "    <tr>\n",
       "      <th>25%</th>\n",
       "      <td>18160.500000</td>\n",
       "      <td>0.000000</td>\n",
       "      <td>0.000000</td>\n",
       "      <td>0.000000</td>\n",
       "      <td>0.000000</td>\n",
       "      <td>0.000000</td>\n",
       "      <td>2.400000</td>\n",
       "    </tr>\n",
       "    <tr>\n",
       "      <th>50%</th>\n",
       "      <td>36336.000000</td>\n",
       "      <td>0.000000</td>\n",
       "      <td>0.000000</td>\n",
       "      <td>0.000000</td>\n",
       "      <td>0.000000</td>\n",
       "      <td>0.000000</td>\n",
       "      <td>3.000000</td>\n",
       "    </tr>\n",
       "    <tr>\n",
       "      <th>75%</th>\n",
       "      <td>78957.500000</td>\n",
       "      <td>1.000000</td>\n",
       "      <td>1.000000</td>\n",
       "      <td>0.000000</td>\n",
       "      <td>0.000000</td>\n",
       "      <td>0.000000</td>\n",
       "      <td>3.600000</td>\n",
       "    </tr>\n",
       "    <tr>\n",
       "      <th>max</th>\n",
       "      <td>92513.000000</td>\n",
       "      <td>1.000000</td>\n",
       "      <td>1.000000</td>\n",
       "      <td>1.000000</td>\n",
       "      <td>1.000000</td>\n",
       "      <td>1.000000</td>\n",
       "      <td>5.000000</td>\n",
       "    </tr>\n",
       "  </tbody>\n",
       "</table>\n",
       "</div>"
      ],
      "text/plain": [
       "              index        humor  prejudice_woman  prejudice_lgbtiq  \\\n",
       "count   2671.000000  2671.000000      2671.000000       2671.000000   \n",
       "mean   42321.260202     0.325346         0.483714          0.227256   \n",
       "std    27962.187334     0.468592         0.499828          0.419138   \n",
       "min        9.000000     0.000000         0.000000          0.000000   \n",
       "25%    18160.500000     0.000000         0.000000          0.000000   \n",
       "50%    36336.000000     0.000000         0.000000          0.000000   \n",
       "75%    78957.500000     1.000000         1.000000          0.000000   \n",
       "max    92513.000000     1.000000         1.000000          1.000000   \n",
       "\n",
       "       prejudice_inmigrant_race   gordofobia  mean_prejudice  \n",
       "count               2671.000000  2671.000000     2671.000000  \n",
       "mean                   0.248596     0.080120        3.053126  \n",
       "std                    0.432280     0.271529        0.809173  \n",
       "min                    0.000000     0.000000        0.400000  \n",
       "25%                    0.000000     0.000000        2.400000  \n",
       "50%                    0.000000     0.000000        3.000000  \n",
       "75%                    0.000000     0.000000        3.600000  \n",
       "max                    1.000000     1.000000        5.000000  "
      ]
     },
     "execution_count": 6,
     "metadata": {},
     "output_type": "execute_result"
    }
   ],
   "source": [
    "data.describe()"
   ]
  },
  {
   "cell_type": "code",
   "execution_count": 8,
   "metadata": {},
   "outputs": [
    {
     "data": {
      "text/html": [
       "<div>\n",
       "<style scoped>\n",
       "    .dataframe tbody tr th:only-of-type {\n",
       "        vertical-align: middle;\n",
       "    }\n",
       "\n",
       "    .dataframe tbody tr th {\n",
       "        vertical-align: top;\n",
       "    }\n",
       "\n",
       "    .dataframe thead tr th {\n",
       "        text-align: left;\n",
       "    }\n",
       "\n",
       "    .dataframe thead tr:last-of-type th {\n",
       "        text-align: right;\n",
       "    }\n",
       "</style>\n",
       "<table border=\"1\" class=\"dataframe\">\n",
       "  <thead>\n",
       "    <tr>\n",
       "      <th></th>\n",
       "      <th colspan=\"8\" halign=\"left\">index</th>\n",
       "      <th colspan=\"2\" halign=\"left\">prejudice_woman</th>\n",
       "      <th>...</th>\n",
       "      <th colspan=\"2\" halign=\"left\">gordofobia</th>\n",
       "      <th colspan=\"8\" halign=\"left\">mean_prejudice</th>\n",
       "    </tr>\n",
       "    <tr>\n",
       "      <th></th>\n",
       "      <th>count</th>\n",
       "      <th>mean</th>\n",
       "      <th>std</th>\n",
       "      <th>min</th>\n",
       "      <th>25%</th>\n",
       "      <th>50%</th>\n",
       "      <th>75%</th>\n",
       "      <th>max</th>\n",
       "      <th>count</th>\n",
       "      <th>mean</th>\n",
       "      <th>...</th>\n",
       "      <th>75%</th>\n",
       "      <th>max</th>\n",
       "      <th>count</th>\n",
       "      <th>mean</th>\n",
       "      <th>std</th>\n",
       "      <th>min</th>\n",
       "      <th>25%</th>\n",
       "      <th>50%</th>\n",
       "      <th>75%</th>\n",
       "      <th>max</th>\n",
       "    </tr>\n",
       "    <tr>\n",
       "      <th>humor</th>\n",
       "      <th></th>\n",
       "      <th></th>\n",
       "      <th></th>\n",
       "      <th></th>\n",
       "      <th></th>\n",
       "      <th></th>\n",
       "      <th></th>\n",
       "      <th></th>\n",
       "      <th></th>\n",
       "      <th></th>\n",
       "      <th></th>\n",
       "      <th></th>\n",
       "      <th></th>\n",
       "      <th></th>\n",
       "      <th></th>\n",
       "      <th></th>\n",
       "      <th></th>\n",
       "      <th></th>\n",
       "      <th></th>\n",
       "      <th></th>\n",
       "      <th></th>\n",
       "    </tr>\n",
       "  </thead>\n",
       "  <tbody>\n",
       "    <tr>\n",
       "      <th>0</th>\n",
       "      <td>1802.0</td>\n",
       "      <td>39228.870144</td>\n",
       "      <td>28974.206327</td>\n",
       "      <td>9.0</td>\n",
       "      <td>15360.0</td>\n",
       "      <td>30745.5</td>\n",
       "      <td>79071.75</td>\n",
       "      <td>92513.0</td>\n",
       "      <td>1802.0</td>\n",
       "      <td>0.482797</td>\n",
       "      <td>...</td>\n",
       "      <td>0.0</td>\n",
       "      <td>1.0</td>\n",
       "      <td>1802.0</td>\n",
       "      <td>3.00111</td>\n",
       "      <td>0.786469</td>\n",
       "      <td>0.4</td>\n",
       "      <td>2.4</td>\n",
       "      <td>3.0</td>\n",
       "      <td>3.6</td>\n",
       "      <td>5.0</td>\n",
       "    </tr>\n",
       "    <tr>\n",
       "      <th>1</th>\n",
       "      <td>869.0</td>\n",
       "      <td>48733.788262</td>\n",
       "      <td>24539.918423</td>\n",
       "      <td>22.0</td>\n",
       "      <td>29609.0</td>\n",
       "      <td>51505.0</td>\n",
       "      <td>72026.00</td>\n",
       "      <td>92084.0</td>\n",
       "      <td>869.0</td>\n",
       "      <td>0.485616</td>\n",
       "      <td>...</td>\n",
       "      <td>0.0</td>\n",
       "      <td>1.0</td>\n",
       "      <td>869.0</td>\n",
       "      <td>3.16099</td>\n",
       "      <td>0.844641</td>\n",
       "      <td>1.0</td>\n",
       "      <td>2.6</td>\n",
       "      <td>3.2</td>\n",
       "      <td>3.8</td>\n",
       "      <td>5.0</td>\n",
       "    </tr>\n",
       "  </tbody>\n",
       "</table>\n",
       "<p>2 rows × 48 columns</p>\n",
       "</div>"
      ],
      "text/plain": [
       "        index                                                                \\\n",
       "        count          mean           std   min      25%      50%       75%   \n",
       "humor                                                                         \n",
       "0      1802.0  39228.870144  28974.206327   9.0  15360.0  30745.5  79071.75   \n",
       "1       869.0  48733.788262  24539.918423  22.0  29609.0  51505.0  72026.00   \n",
       "\n",
       "               prejudice_woman            ... gordofobia      mean_prejudice  \\\n",
       "           max           count      mean  ...        75%  max          count   \n",
       "humor                                     ...                                  \n",
       "0      92513.0          1802.0  0.482797  ...        0.0  1.0         1802.0   \n",
       "1      92084.0           869.0  0.485616  ...        0.0  1.0          869.0   \n",
       "\n",
       "                                                   \n",
       "          mean       std  min  25%  50%  75%  max  \n",
       "humor                                              \n",
       "0      3.00111  0.786469  0.4  2.4  3.0  3.6  5.0  \n",
       "1      3.16099  0.844641  1.0  2.6  3.2  3.8  5.0  \n",
       "\n",
       "[2 rows x 48 columns]"
      ]
     },
     "execution_count": 8,
     "metadata": {},
     "output_type": "execute_result"
    }
   ],
   "source": [
    "data.groupby(['humor']).describe()"
   ]
  },
  {
   "cell_type": "code",
   "execution_count": 10,
   "metadata": {},
   "outputs": [
    {
     "data": {
      "text/plain": [
       "<Axes: >"
      ]
     },
     "execution_count": 10,
     "metadata": {},
     "output_type": "execute_result"
    },
    {
     "data": {
      "image/png": "[encoded data removed]",
      "text/plain": [
       "<Figure size 640x480 with 1 Axes>"
      ]
     },
     "metadata": {},
     "output_type": "display_data"
    }
   ],
   "source": [
    "data.boxplot('mean_prejudice')"
   ]
  },
  {
   "cell_type": "code",
   "execution_count": 14,
   "metadata": {},
   "outputs": [
    {
     "data": {
      "text/html": [
       "<div>\n",
       "<style scoped>\n",
       "    .dataframe tbody tr th:only-of-type {\n",
       "        vertical-align: middle;\n",
       "    }\n",
       "\n",
       "    .dataframe tbody tr th {\n",
       "        vertical-align: top;\n",
       "    }\n",
       "\n",
       "    .dataframe thead th {\n",
       "        text-align: right;\n",
       "    }\n",
       "</style>\n",
       "<table border=\"1\" class=\"dataframe\">\n",
       "  <thead>\n",
       "    <tr style=\"text-align: right;\">\n",
       "      <th></th>\n",
       "      <th>index</th>\n",
       "      <th>humor</th>\n",
       "      <th>prejudice_woman</th>\n",
       "      <th>prejudice_lgbtiq</th>\n",
       "      <th>prejudice_inmigrant_race</th>\n",
       "      <th>gordofobia</th>\n",
       "      <th>mean_prejudice</th>\n",
       "    </tr>\n",
       "  </thead>\n",
       "  <tbody>\n",
       "    <tr>\n",
       "      <th>index</th>\n",
       "      <td>1.000000</td>\n",
       "      <td>0.159284</td>\n",
       "      <td>-0.153743</td>\n",
       "      <td>-0.011730</td>\n",
       "      <td>0.147229</td>\n",
       "      <td>0.045398</td>\n",
       "      <td>0.153135</td>\n",
       "    </tr>\n",
       "    <tr>\n",
       "      <th>humor</th>\n",
       "      <td>0.159284</td>\n",
       "      <td>1.000000</td>\n",
       "      <td>0.002643</td>\n",
       "      <td>-0.098179</td>\n",
       "      <td>0.023981</td>\n",
       "      <td>0.115906</td>\n",
       "      <td>0.092586</td>\n",
       "    </tr>\n",
       "    <tr>\n",
       "      <th>prejudice_woman</th>\n",
       "      <td>-0.153743</td>\n",
       "      <td>0.002643</td>\n",
       "      <td>1.000000</td>\n",
       "      <td>-0.494522</td>\n",
       "      <td>-0.551549</td>\n",
       "      <td>-0.078690</td>\n",
       "      <td>-0.106623</td>\n",
       "    </tr>\n",
       "    <tr>\n",
       "      <th>prejudice_lgbtiq</th>\n",
       "      <td>-0.011730</td>\n",
       "      <td>-0.098179</td>\n",
       "      <td>-0.494522</td>\n",
       "      <td>1.000000</td>\n",
       "      <td>-0.309858</td>\n",
       "      <td>-0.133718</td>\n",
       "      <td>-0.076802</td>\n",
       "    </tr>\n",
       "    <tr>\n",
       "      <th>prejudice_inmigrant_race</th>\n",
       "      <td>0.147229</td>\n",
       "      <td>0.023981</td>\n",
       "      <td>-0.551549</td>\n",
       "      <td>-0.309858</td>\n",
       "      <td>1.000000</td>\n",
       "      <td>-0.163370</td>\n",
       "      <td>0.190938</td>\n",
       "    </tr>\n",
       "    <tr>\n",
       "      <th>gordofobia</th>\n",
       "      <td>0.045398</td>\n",
       "      <td>0.115906</td>\n",
       "      <td>-0.078690</td>\n",
       "      <td>-0.133718</td>\n",
       "      <td>-0.163370</td>\n",
       "      <td>1.000000</td>\n",
       "      <td>-0.132567</td>\n",
       "    </tr>\n",
       "    <tr>\n",
       "      <th>mean_prejudice</th>\n",
       "      <td>0.153135</td>\n",
       "      <td>0.092586</td>\n",
       "      <td>-0.106623</td>\n",
       "      <td>-0.076802</td>\n",
       "      <td>0.190938</td>\n",
       "      <td>-0.132567</td>\n",
       "      <td>1.000000</td>\n",
       "    </tr>\n",
       "  </tbody>\n",
       "</table>\n",
       "</div>"
      ],
      "text/plain": [
       "                             index     humor  prejudice_woman  \\\n",
       "index                     1.000000  0.159284        -0.153743   \n",
       "humor                     0.159284  1.000000         0.002643   \n",
       "prejudice_woman          -0.153743  0.002643         1.000000   \n",
       "prejudice_lgbtiq         -0.011730 -0.098179        -0.494522   \n",
       "prejudice_inmigrant_race  0.147229  0.023981        -0.551549   \n",
       "gordofobia                0.045398  0.115906        -0.078690   \n",
       "mean_prejudice            0.153135  0.092586        -0.106623   \n",
       "\n",
       "                          prejudice_lgbtiq  prejudice_inmigrant_race  \\\n",
       "index                            -0.011730                  0.147229   \n",
       "humor                            -0.098179                  0.023981   \n",
       "prejudice_woman                  -0.494522                 -0.551549   \n",
       "prejudice_lgbtiq                  1.000000                 -0.309858   \n",
       "prejudice_inmigrant_race         -0.309858                  1.000000   \n",
       "gordofobia                       -0.133718                 -0.163370   \n",
       "mean_prejudice                   -0.076802                  0.190938   \n",
       "\n",
       "                          gordofobia  mean_prejudice  \n",
       "index                       0.045398        0.153135  \n",
       "humor                       0.115906        0.092586  \n",
       "prejudice_woman            -0.078690       -0.106623  \n",
       "prejudice_lgbtiq           -0.133718       -0.076802  \n",
       "prejudice_inmigrant_race   -0.163370        0.190938  \n",
       "gordofobia                  1.000000       -0.132567  \n",
       "mean_prejudice             -0.132567        1.000000  "
      ]
     },
     "execution_count": 14,
     "metadata": {},
     "output_type": "execute_result"
    }
   ],
   "source": [
    "data.corr(numeric_only=True)"
   ]
  },
  {
   "cell_type": "code",
   "execution_count": 22,
   "metadata": {},
   "outputs": [
    {
     "name": "stderr",
     "output_type": "stream",
     "text": [
      "UsageError: Line magic function `%matplotlib.inline` not found.\n"
     ]
    }
   ],
   "source": [
    "import statsmodels.api as sm\n",
    "import matplotlib.pyplot as plt\n",
    "\n",
    "%matplotlib.inline"
   ]
  },
  {
   "cell_type": "code",
   "execution_count": 23,
   "metadata": {},
   "outputs": [],
   "source": [
    "reg_values = data['mean_prejudice'].to_numpy()"
   ]
  },
  {
   "cell_type": "code",
   "execution_count": 24,
   "metadata": {},
   "outputs": [
    {
     "data": {
      "image/png": "[encoded data removed]",
      "text/plain": [
       "<Figure size 640x480 with 1 Axes>"
      ]
     },
     "metadata": {},
     "output_type": "display_data"
    }
   ],
   "source": [
    "sm.qqplot(reg_values, line ='45')\n",
    "plt.show()"
   ]
  },
  {
   "cell_type": "code",
   "execution_count": 27,
   "metadata": {},
   "outputs": [
    {
     "data": {
      "image/png": "[encoded data removed]",
      "text/plain": [
       "<Figure size 640x480 with 1 Axes>"
      ]
     },
     "metadata": {},
     "output_type": "display_data"
    }
   ],
   "source": [
    "plt.hist(reg_values, edgecolor='black', bins=25)\n",
    "plt.show()"
   ]
  }
 ],
 "metadata": {
  "kernelspec": {
   "display_name": ".venv",
   "language": "python",
   "name": "python3"
  },
  "language_info": {
   "codemirror_mode": {
    "name": "ipython",
    "version": 3
   },
   "file_extension": ".py",
   "mimetype": "text/x-python",
   "name": "python",
   "nbconvert_exporter": "python",
   "pygments_lexer": "ipython3",
   "version": "3.10.10"
  },
  "orig_nbformat": 4
 },
 "nbformat": 4,
 "nbformat_minor": 2
}
